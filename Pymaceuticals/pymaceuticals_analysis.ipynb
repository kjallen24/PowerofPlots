{
 "cells": [
  {
   "cell_type": "markdown",
   "metadata": {},
   "source": [
    "## Observations and Insights "
   ]
  },
  {
   "cell_type": "markdown",
   "metadata": {},
   "source": []
  },
  {
   "cell_type": "code",
   "execution_count": 237,
   "metadata": {},
   "outputs": [
    {
     "output_type": "execute_result",
     "data": {
      "text/plain": [
       "Mouse ID              1893\n",
       "Drug Regimen          1893\n",
       "Sex                   1893\n",
       "Age_months            1893\n",
       "Weight (g)            1893\n",
       "Timepoint             1893\n",
       "Tumor Volume (mm3)    1893\n",
       "Metastatic Sites      1893\n",
       "dtype: int64"
      ]
     },
     "metadata": {},
     "execution_count": 237
    }
   ],
   "source": [
    "# Dependencies and Setup\n",
    "import matplotlib.pyplot as plt\n",
    "import pandas as pd\n",
    "import scipy.stats as st\n",
    "import numpy as np\n",
    "\n",
    "\n",
    "# Study data files\n",
    "mouse_metadata_path = \"data/Mouse_metadata.csv\"\n",
    "study_results_path = \"data/Study_results.csv\"\n",
    "\n",
    "# Read the mouse data and the study results\n",
    "mouse_metadata = pd.read_csv(mouse_metadata_path)\n",
    "study_results = pd.read_csv(study_results_path)\n",
    "\n",
    "# Combine the data into a single dataset\n",
    "mouse_study_complete = pd.merge(mouse_metadata, study_results, how=\"left\", on=[\"Mouse ID\", \"Mouse ID\"])\n",
    "# Display the data table for preview\n",
    "mouse_study_complete.head()\n",
    "mouse_study_complete.count()"
   ]
  },
  {
   "cell_type": "code",
   "execution_count": 238,
   "metadata": {},
   "outputs": [
    {
     "output_type": "execute_result",
     "data": {
      "text/plain": [
       "249"
      ]
     },
     "metadata": {},
     "execution_count": 238
    }
   ],
   "source": [
    "# Checking the number of mice.\n",
    "total_mice = mouse_study_complete[\"Mouse ID\"].unique() #total num of mice\n",
    "len(total_mice)"
   ]
  },
  {
   "cell_type": "code",
   "execution_count": 239,
   "metadata": {},
   "outputs": [
    {
     "output_type": "stream",
     "name": "stdout",
     "text": [
      "    Mouse ID Drug Regimen     Sex  Age_months  Weight (g)  Timepoint  \\\n909     g989     Propriva  Female          21          26          0   \n911     g989     Propriva  Female          21          26          5   \n913     g989     Propriva  Female          21          26         10   \n915     g989     Propriva  Female          21          26         15   \n917     g989     Propriva  Female          21          26         20   \n\n     Tumor Volume (mm3)  Metastatic Sites  \n909           45.000000                 0  \n911           47.570392                 0  \n913           49.880528                 0  \n915           53.442020                 0  \n917           54.657650                 1  \n"
     ]
    }
   ],
   "source": [
    "# Getting the duplicate mice by ID number that shows up for Mouse ID and Timepoint. \n",
    "print(mouse_study_complete[mouse_study_complete.duplicated(subset = ['Mouse ID','Timepoint'])])"
   ]
  },
  {
   "cell_type": "code",
   "execution_count": 240,
   "metadata": {},
   "outputs": [
    {
     "output_type": "stream",
     "name": "stdout",
     "text": [
      "    Mouse ID Drug Regimen     Sex  Age_months  Weight (g)  Timepoint  \\\n908     g989     Propriva  Female          21          26          0   \n909     g989     Propriva  Female          21          26          0   \n910     g989     Propriva  Female          21          26          5   \n911     g989     Propriva  Female          21          26          5   \n912     g989     Propriva  Female          21          26         10   \n913     g989     Propriva  Female          21          26         10   \n914     g989     Propriva  Female          21          26         15   \n915     g989     Propriva  Female          21          26         15   \n916     g989     Propriva  Female          21          26         20   \n917     g989     Propriva  Female          21          26         20   \n918     g989     Propriva  Female          21          26         25   \n919     g989     Propriva  Female          21          26         30   \n920     g989     Propriva  Female          21          26         35   \n\n     Tumor Volume (mm3)  Metastatic Sites  \n908           45.000000                 0  \n909           45.000000                 0  \n910           48.786801                 0  \n911           47.570392                 0  \n912           51.745156                 0  \n913           49.880528                 0  \n914           51.325852                 1  \n915           53.442020                 0  \n916           55.326122                 1  \n917           54.657650                 1  \n918           56.045564                 1  \n919           59.082294                 1  \n920           62.570880                 2  \n"
     ]
    }
   ],
   "source": [
    "# Optional: Get all the data for the duplicate mouse ID. \n",
    "mouse_study_complete.set_index(\"Mouse ID\")\n",
    "only_g989 = mouse_study_complete.loc[mouse_study_complete[\"Mouse ID\"] == \"g989\", :]\n",
    "print(only_g989)\n"
   ]
  },
  {
   "cell_type": "code",
   "execution_count": 241,
   "metadata": {},
   "outputs": [
    {
     "output_type": "execute_result",
     "data": {
      "text/plain": [
       "  Mouse ID Drug Regimen   Sex  Age_months  Weight (g)  Timepoint  \\\n",
       "0     k403     Ramicane  Male          21          16          0   \n",
       "1     k403     Ramicane  Male          21          16          5   \n",
       "2     k403     Ramicane  Male          21          16         10   \n",
       "3     k403     Ramicane  Male          21          16         15   \n",
       "4     k403     Ramicane  Male          21          16         20   \n",
       "\n",
       "   Tumor Volume (mm3)  Metastatic Sites  \n",
       "0           45.000000                 0  \n",
       "1           38.825898                 0  \n",
       "2           35.014271                 1  \n",
       "3           34.223992                 1  \n",
       "4           32.997729                 1  "
      ],
      "text/html": "<div>\n<style scoped>\n    .dataframe tbody tr th:only-of-type {\n        vertical-align: middle;\n    }\n\n    .dataframe tbody tr th {\n        vertical-align: top;\n    }\n\n    .dataframe thead th {\n        text-align: right;\n    }\n</style>\n<table border=\"1\" class=\"dataframe\">\n  <thead>\n    <tr style=\"text-align: right;\">\n      <th></th>\n      <th>Mouse ID</th>\n      <th>Drug Regimen</th>\n      <th>Sex</th>\n      <th>Age_months</th>\n      <th>Weight (g)</th>\n      <th>Timepoint</th>\n      <th>Tumor Volume (mm3)</th>\n      <th>Metastatic Sites</th>\n    </tr>\n  </thead>\n  <tbody>\n    <tr>\n      <th>0</th>\n      <td>k403</td>\n      <td>Ramicane</td>\n      <td>Male</td>\n      <td>21</td>\n      <td>16</td>\n      <td>0</td>\n      <td>45.000000</td>\n      <td>0</td>\n    </tr>\n    <tr>\n      <th>1</th>\n      <td>k403</td>\n      <td>Ramicane</td>\n      <td>Male</td>\n      <td>21</td>\n      <td>16</td>\n      <td>5</td>\n      <td>38.825898</td>\n      <td>0</td>\n    </tr>\n    <tr>\n      <th>2</th>\n      <td>k403</td>\n      <td>Ramicane</td>\n      <td>Male</td>\n      <td>21</td>\n      <td>16</td>\n      <td>10</td>\n      <td>35.014271</td>\n      <td>1</td>\n    </tr>\n    <tr>\n      <th>3</th>\n      <td>k403</td>\n      <td>Ramicane</td>\n      <td>Male</td>\n      <td>21</td>\n      <td>16</td>\n      <td>15</td>\n      <td>34.223992</td>\n      <td>1</td>\n    </tr>\n    <tr>\n      <th>4</th>\n      <td>k403</td>\n      <td>Ramicane</td>\n      <td>Male</td>\n      <td>21</td>\n      <td>16</td>\n      <td>20</td>\n      <td>32.997729</td>\n      <td>1</td>\n    </tr>\n  </tbody>\n</table>\n</div>"
     },
     "metadata": {},
     "execution_count": 241
    }
   ],
   "source": [
    "# Create a clean DataFrame by dropping the duplicate mouse by its ID.\n",
    "dup_mouse = mouse_study_complete[mouse_study_complete['Mouse ID'] == \"g989\"].index\n",
    "mouse_study_complete.drop(dup_mouse, inplace= True)\n",
    "mouse_study_complete.head()"
   ]
  },
  {
   "cell_type": "code",
   "execution_count": 242,
   "metadata": {},
   "outputs": [
    {
     "output_type": "execute_result",
     "data": {
      "text/plain": [
       "Mouse ID              1880\n",
       "Drug Regimen          1880\n",
       "Sex                   1880\n",
       "Age_months            1880\n",
       "Weight (g)            1880\n",
       "Timepoint             1880\n",
       "Tumor Volume (mm3)    1880\n",
       "Metastatic Sites      1880\n",
       "dtype: int64"
      ]
     },
     "metadata": {},
     "execution_count": 242
    }
   ],
   "source": [
    "# Checking the number of mice in the clean DataFrame.\n",
    "mouse_study_complete.count()"
   ]
  },
  {
   "cell_type": "markdown",
   "metadata": {},
   "source": [
    "## Summary Statistics"
   ]
  },
  {
   "cell_type": "code",
   "execution_count": 243,
   "metadata": {},
   "outputs": [],
   "source": [
    "# Generate a summary statistics table of mean, median, variance, standard deviation, and SEM of the tumor volume for each regimen\n",
    "\n",
    "# Use groupby and summary statistical methods to calculate the following properties of each drug regimen: \n",
    "# mean, median, variance, standard deviation, and SEM of the tumor volume. \n",
    "# Assemble the resulting series into a single summary dataframe."
   ]
  },
  {
   "cell_type": "code",
   "execution_count": 244,
   "metadata": {},
   "outputs": [
    {
     "output_type": "execute_result",
     "data": {
      "text/plain": [
       "Drug Regimen\n",
       "Capomulin    40.675741\n",
       "Ceftamin     52.591172\n",
       "Infubinol    52.884795\n",
       "Ketapril     55.235638\n",
       "Naftisol     54.331565\n",
       "Placebo      54.033581\n",
       "Propriva     52.320930\n",
       "Ramicane     40.216745\n",
       "Stelasyn     54.233149\n",
       "Zoniferol    53.236507\n",
       "Name: Tumor Volume (mm3), dtype: float64"
      ]
     },
     "metadata": {},
     "execution_count": 244
    }
   ],
   "source": [
    "drug_list1 = mouse_study_complete.groupby(\"Drug Regimen\").mean()[\"Tumor Volume (mm3)\"]\n",
    "drug_list1"
   ]
  },
  {
   "cell_type": "code",
   "execution_count": 245,
   "metadata": {},
   "outputs": [
    {
     "output_type": "execute_result",
     "data": {
      "text/plain": [
       "Drug Regimen\n",
       "Capomulin    41.557809\n",
       "Ceftamin     51.776157\n",
       "Infubinol    51.820584\n",
       "Ketapril     53.698743\n",
       "Naftisol     52.509285\n",
       "Placebo      52.288934\n",
       "Propriva     50.446266\n",
       "Ramicane     40.673236\n",
       "Stelasyn     52.431737\n",
       "Zoniferol    51.818479\n",
       "Name: Tumor Volume (mm3), dtype: float64"
      ]
     },
     "metadata": {},
     "execution_count": 245
    }
   ],
   "source": [
    "drug_list = mouse_study_complete.groupby(\"Drug Regimen\").median()[\"Tumor Volume (mm3)\"]\n",
    "drug_list"
   ]
  },
  {
   "cell_type": "code",
   "execution_count": 246,
   "metadata": {},
   "outputs": [],
   "source": [
    "#drug_variance = mouse_study_complete.groupby([\"Drug Regimen\"]).mean()[\"Tumor Volume (mm3)\"]\n",
    "#drug_variance_df = pd.DataFrame({\"Avg Tumor Volume\": drug_variance})\n",
    "#drug_variance_df = mouse_study_complete[\"Avg Tumor Volume\": drug_variance.var]\n",
    "drug_tumor = mouse_study_complete.loc[:, [\"Drug Regimen\", \"Tumor Volume (mm3)\"]]\n",
    "drug_tumor.set_index(\"Drug Regimen\")\n",
    "Ramicane_drug = drug_tumor[drug_tumor['Drug Regimen'] == \"Ramicane\"].index\n",
    "#drug_variance = drug_tumor[\"Rami\"]\n",
    "#what i want here... to group by each drug after it has calculated the mean and variance\n"
   ]
  },
  {
   "cell_type": "code",
   "execution_count": 247,
   "metadata": {},
   "outputs": [
    {
     "output_type": "execute_result",
     "data": {
      "text/plain": [
       "                   Mean     Median\n",
       "Drug Regimen                      \n",
       "Capomulin     40.675741  41.557809\n",
       "Ceftamin      52.591172  51.776157\n",
       "Infubinol     52.884795  51.820584\n",
       "Ketapril      55.235638  53.698743\n",
       "Naftisol      54.331565  52.509285\n",
       "Placebo       54.033581  52.288934\n",
       "Propriva      52.320930  50.446266\n",
       "Ramicane      40.216745  40.673236\n",
       "Stelasyn      54.233149  52.431737\n",
       "Zoniferol     53.236507  51.818479"
      ],
      "text/html": "<div>\n<style scoped>\n    .dataframe tbody tr th:only-of-type {\n        vertical-align: middle;\n    }\n\n    .dataframe tbody tr th {\n        vertical-align: top;\n    }\n\n    .dataframe thead th {\n        text-align: right;\n    }\n</style>\n<table border=\"1\" class=\"dataframe\">\n  <thead>\n    <tr style=\"text-align: right;\">\n      <th></th>\n      <th>Mean</th>\n      <th>Median</th>\n    </tr>\n    <tr>\n      <th>Drug Regimen</th>\n      <th></th>\n      <th></th>\n    </tr>\n  </thead>\n  <tbody>\n    <tr>\n      <th>Capomulin</th>\n      <td>40.675741</td>\n      <td>41.557809</td>\n    </tr>\n    <tr>\n      <th>Ceftamin</th>\n      <td>52.591172</td>\n      <td>51.776157</td>\n    </tr>\n    <tr>\n      <th>Infubinol</th>\n      <td>52.884795</td>\n      <td>51.820584</td>\n    </tr>\n    <tr>\n      <th>Ketapril</th>\n      <td>55.235638</td>\n      <td>53.698743</td>\n    </tr>\n    <tr>\n      <th>Naftisol</th>\n      <td>54.331565</td>\n      <td>52.509285</td>\n    </tr>\n    <tr>\n      <th>Placebo</th>\n      <td>54.033581</td>\n      <td>52.288934</td>\n    </tr>\n    <tr>\n      <th>Propriva</th>\n      <td>52.320930</td>\n      <td>50.446266</td>\n    </tr>\n    <tr>\n      <th>Ramicane</th>\n      <td>40.216745</td>\n      <td>40.673236</td>\n    </tr>\n    <tr>\n      <th>Stelasyn</th>\n      <td>54.233149</td>\n      <td>52.431737</td>\n    </tr>\n    <tr>\n      <th>Zoniferol</th>\n      <td>53.236507</td>\n      <td>51.818479</td>\n    </tr>\n  </tbody>\n</table>\n</div>"
     },
     "metadata": {},
     "execution_count": 247
    }
   ],
   "source": [
    "stats_summary = pd.DataFrame({\"Mean\": drug_list1, \"Median\": drug_list})\n",
    "stats_summary\n",
    "#print(f\"{round(stats_summary.Mean.std(),2)}\")\n",
    "#sem(sample.Combined_MPG)}\n"
   ]
  },
  {
   "cell_type": "code",
   "execution_count": 255,
   "metadata": {},
   "outputs": [
    {
     "output_type": "execute_result",
     "data": {
      "text/plain": [
       "10"
      ]
     },
     "metadata": {},
     "execution_count": 255
    }
   ],
   "source": [
    "total_drugs = mouse_study_complete[\"Drug Regimen\"].unique() #total num of drug regimens\n",
    "len(total_drugs)"
   ]
  },
  {
   "cell_type": "code",
   "execution_count": 261,
   "metadata": {},
   "outputs": [
    {
     "output_type": "execute_result",
     "data": {
      "text/plain": [
       "array(['Male', 'Female'], dtype=object)"
      ]
     },
     "metadata": {},
     "execution_count": 261
    }
   ],
   "source": [
    "genders = mouse_study_complete[\"Sex\"].unique()\n",
    "genders"
   ]
  },
  {
   "cell_type": "code",
   "execution_count": 264,
   "metadata": {},
   "outputs": [
    {
     "output_type": "execute_result",
     "data": {
      "text/plain": [
       "12.76"
      ]
     },
     "metadata": {},
     "execution_count": 264
    }
   ],
   "source": [
    "avg_age = mouse_study_complete[\"Age_months\"].mean()\n",
    "round(avg_age,2)"
   ]
  },
  {
   "cell_type": "code",
   "execution_count": 265,
   "metadata": {},
   "outputs": [
    {
     "output_type": "execute_result",
     "data": {
      "text/plain": [
       "25.66"
      ]
     },
     "metadata": {},
     "execution_count": 265
    }
   ],
   "source": [
    "avg_wgt = mouse_study_complete[\"Weight (g)\"].mean()\n",
    "round(avg_wgt,2)"
   ]
  },
  {
   "cell_type": "code",
   "execution_count": 267,
   "metadata": {},
   "outputs": [
    {
     "output_type": "execute_result",
     "data": {
      "text/plain": [
       "45"
      ]
     },
     "metadata": {},
     "execution_count": 267
    }
   ],
   "source": [
    "max_time = mouse_study_complete[\"Timepoint\"].max()\n",
    "max_time"
   ]
  },
  {
   "cell_type": "code",
   "execution_count": 268,
   "metadata": {},
   "outputs": [
    {
     "output_type": "execute_result",
     "data": {
      "text/plain": [
       "0"
      ]
     },
     "metadata": {},
     "execution_count": 268
    }
   ],
   "source": [
    "min_time = mouse_study_complete[\"Timepoint\"].min()\n",
    "min_time"
   ]
  },
  {
   "cell_type": "code",
   "execution_count": 269,
   "metadata": {},
   "outputs": [
    {
     "output_type": "execute_result",
     "data": {
      "text/plain": [
       "50.435293232255326"
      ]
     },
     "metadata": {},
     "execution_count": 269
    }
   ],
   "source": [
    "tum_vol =  mouse_study_complete[\"Tumor Volume (mm3)\"].mean()\n",
    "tum_vol"
   ]
  },
  {
   "cell_type": "code",
   "execution_count": 270,
   "metadata": {},
   "outputs": [
    {
     "output_type": "execute_result",
     "data": {
      "text/plain": [
       "1.025"
      ]
     },
     "metadata": {},
     "execution_count": 270
    }
   ],
   "source": [
    "avg_mest = mouse_study_complete[\"Metastatic Sites\"].mean()\n",
    "avg_mest"
   ]
  },
  {
   "cell_type": "code",
   "execution_count": 274,
   "metadata": {},
   "outputs": [
    {
     "output_type": "execute_result",
     "data": {
      "text/plain": [
       "   Total Mice IDs  No. Drug Regimens         Genders  Avg Age (mos.)  \\\n",
       "0             249                 10  [Male, Female]           12.76   \n",
       "\n",
       "   Avg Weight (g)  Max Time  Avg Tumor Vol.  Avg Metastic Sites  \n",
       "0           25.66        45       50.435293               1.025  "
      ],
      "text/html": "<div>\n<style scoped>\n    .dataframe tbody tr th:only-of-type {\n        vertical-align: middle;\n    }\n\n    .dataframe tbody tr th {\n        vertical-align: top;\n    }\n\n    .dataframe thead th {\n        text-align: right;\n    }\n</style>\n<table border=\"1\" class=\"dataframe\">\n  <thead>\n    <tr style=\"text-align: right;\">\n      <th></th>\n      <th>Total Mice IDs</th>\n      <th>No. Drug Regimens</th>\n      <th>Genders</th>\n      <th>Avg Age (mos.)</th>\n      <th>Avg Weight (g)</th>\n      <th>Max Time</th>\n      <th>Avg Tumor Vol.</th>\n      <th>Avg Metastic Sites</th>\n    </tr>\n  </thead>\n  <tbody>\n    <tr>\n      <th>0</th>\n      <td>249</td>\n      <td>10</td>\n      <td>[Male, Female]</td>\n      <td>12.76</td>\n      <td>25.66</td>\n      <td>45</td>\n      <td>50.435293</td>\n      <td>1.025</td>\n    </tr>\n  </tbody>\n</table>\n</div>"
     },
     "metadata": {},
     "execution_count": 274
    }
   ],
   "source": [
    "# Generate a summary statistics table of mean, median, variance, standard deviation, and SEM of the tumor volume for each regimen\n",
    "\n",
    "# Using the aggregation method, produce the same summary statistics in a single line\n",
    "summary_sngl = pd.DataFrame({\"Total Mice IDs\": [len(total_mice)], \"No. Drug Regimens\": [len(total_drugs)], \"Genders\": [genders], \"Avg Age (mos.)\": [round(avg_age,2)], \"Avg Weight (g)\": [round(avg_wgt,2)], \"Max Time\": [max_time], \"Avg Tumor Vol.\": [tum_vol], \"Avg Metastic Sites\": [avg_mest]})\n",
    "summary_sngl\n"
   ]
  },
  {
   "cell_type": "markdown",
   "metadata": {},
   "source": [
    "## Bar and Pie Charts"
   ]
  },
  {
   "cell_type": "code",
   "execution_count": 9,
   "metadata": {},
   "outputs": [],
   "source": [
    "# Generate a bar plot showing the total number of unique mice tested on each drug regimen using pandas.\n",
    "\n"
   ]
  },
  {
   "cell_type": "code",
   "execution_count": 10,
   "metadata": {},
   "outputs": [],
   "source": [
    "# Generate a bar plot showing the total number of unique mice tested on each drug regimen using pyplot.\n",
    "\n"
   ]
  },
  {
   "cell_type": "code",
   "execution_count": 11,
   "metadata": {},
   "outputs": [],
   "source": [
    "# Generate a pie plot showing the distribution of female versus male mice using pandas\n",
    "\n"
   ]
  },
  {
   "cell_type": "code",
   "execution_count": 12,
   "metadata": {},
   "outputs": [],
   "source": [
    "# Generate a pie plot showing the distribution of female versus male mice using pyplot\n",
    "\n"
   ]
  },
  {
   "cell_type": "markdown",
   "metadata": {},
   "source": [
    "## Quartiles, Outliers and Boxplots"
   ]
  },
  {
   "cell_type": "code",
   "execution_count": 13,
   "metadata": {},
   "outputs": [],
   "source": [
    "# Calculate the final tumor volume of each mouse across four of the treatment regimens:  \n",
    "# Capomulin, Ramicane, Infubinol, and Ceftamin\n",
    "\n",
    "# Start by getting the last (greatest) timepoint for each mouse\n",
    "\n",
    "\n",
    "# Merge this group df with the original dataframe to get the tumor volume at the last timepoint\n"
   ]
  },
  {
   "cell_type": "code",
   "execution_count": 14,
   "metadata": {},
   "outputs": [],
   "source": [
    "# Put treatments into a list for for loop (and later for plot labels)\n",
    "\n",
    "\n",
    "# Create empty list to fill with tumor vol data (for plotting)\n",
    "\n",
    "\n",
    "# Calculate the IQR and quantitatively determine if there are any potential outliers. \n",
    "\n",
    "    \n",
    "    # Locate the rows which contain mice on each drug and get the tumor volumes\n",
    "    \n",
    "    \n",
    "    # add subset \n",
    "    \n",
    "    \n",
    "    # Determine outliers using upper and lower bounds\n",
    "    "
   ]
  },
  {
   "cell_type": "code",
   "execution_count": 15,
   "metadata": {},
   "outputs": [],
   "source": [
    "# Generate a box plot of the final tumor volume of each mouse across four regimens of interest\n"
   ]
  },
  {
   "cell_type": "markdown",
   "metadata": {},
   "source": [
    "## Line and Scatter Plots"
   ]
  },
  {
   "cell_type": "code",
   "execution_count": 16,
   "metadata": {},
   "outputs": [],
   "source": [
    "# Generate a line plot of tumor volume vs. time point for a mouse treated with Capomulin\n"
   ]
  },
  {
   "cell_type": "code",
   "execution_count": 17,
   "metadata": {},
   "outputs": [],
   "source": [
    "# Generate a scatter plot of average tumor volume vs. mouse weight for the Capomulin regimen\n"
   ]
  },
  {
   "cell_type": "markdown",
   "metadata": {},
   "source": [
    "## Correlation and Regression"
   ]
  },
  {
   "cell_type": "code",
   "execution_count": 18,
   "metadata": {},
   "outputs": [],
   "source": [
    "# Calculate the correlation coefficient and linear regression model \n",
    "# for mouse weight and average tumor volume for the Capomulin regimen\n"
   ]
  },
  {
   "cell_type": "code",
   "execution_count": null,
   "metadata": {},
   "outputs": [],
   "source": []
  }
 ],
 "metadata": {
  "anaconda-cloud": {},
  "kernelspec": {
   "name": "python385jvsc74a57bd01b99fc53e5a5a2ddd88dfee3b435c5886b7603ff423032b46207386903f6c167",
   "display_name": "Python 3.8.5 64-bit (conda)"
  },
  "language_info": {
   "codemirror_mode": {
    "name": "ipython",
    "version": 3
   },
   "file_extension": ".py",
   "mimetype": "text/x-python",
   "name": "python",
   "nbconvert_exporter": "python",
   "pygments_lexer": "ipython3",
   "version": "3.8.5-final"
  }
 },
 "nbformat": 4,
 "nbformat_minor": 4
}